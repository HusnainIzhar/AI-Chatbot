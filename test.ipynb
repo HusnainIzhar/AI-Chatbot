{
 "cells": [
  {
   "cell_type": "code",
   "execution_count": 1,
   "metadata": {},
   "outputs": [
    {
     "name": "stderr",
     "output_type": "stream",
     "text": [
      "USER_AGENT environment variable not set, consider setting it to identify your requests.\n"
     ]
    }
   ],
   "source": [
    "from langchain.text_splitter import RecursiveCharacterTextSplitter\n",
    "from langchain_community.embeddings import OllamaEmbeddings\n",
    "from langchain_community.vectorstores import Chroma\n",
    "import ollama\n",
    "import logging\n",
    "from langchain.chains import ConversationChain\n",
    "from langchain.memory import ConversationBufferWindowMemory\n",
    "from langchain_community.document_loaders import (\n",
    "    PyPDFLoader,\n",
    "    WebBaseLoader,\n",
    "    UnstructuredExcelLoader,\n",
    "    UnstructuredImageLoader,\n",
    "    UnstructuredPowerPointLoader,\n",
    ")"
   ]
  },
  {
   "cell_type": "code",
   "execution_count": 2,
   "metadata": {},
   "outputs": [],
   "source": [
    "\n",
    "def pdf_loader(file):\n",
    "    try:\n",
    "        return PyPDFLoader(file).load_and_split()\n",
    "    except Exception as e:\n",
    "        logging.error(\"An error occurred: %s\", e, exc_info=True)\n",
    "\n",
    "\n",
    "def ppt_loader(file):\n",
    "    try:\n",
    "        return UnstructuredPowerPointLoader(file).load_and_split()\n",
    "    except Exception as e:\n",
    "        logging.error(\"An error occurred: %s\", e, exc_info=True)\n",
    "\n",
    "\n",
    "def excel_loader(file):\n",
    "    try:\n",
    "        return UnstructuredExcelLoader(file).load_and_split()\n",
    "    except Exception as e:\n",
    "        logging.error(\"An error occurred: %s\", e, exc_info=True)\n",
    "\n",
    "\n",
    "def img_loader(file):\n",
    "    try:\n",
    "        return UnstructuredImageLoader(file).load()\n",
    "    except Exception as e:\n",
    "        logging.error(\"An error occurred: %s\", e, exc_info=True)\n",
    "\n",
    "\n",
    "def url_loader(url):\n",
    "    try:\n",
    "        return WebBaseLoader(url).load_and_split()\n",
    "    except Exception as e:\n",
    "        logging.error(\"An error occurred: %s\", e, exc_info=True)\n",
    "\n",
    "\n",
    "def chunks_embeddings(data):\n",
    "    try:\n",
    "        print(data)\n",
    "        chunks = RecursiveCharacterTextSplitter(\n",
    "            chunk_size=1000, chunk_overlap=200\n",
    "        ).split_documents(data)\n",
    "        embeddings = OllamaEmbeddings(model=\"nomic-embed-text\")\n",
    "        vector_store = Chroma.from_documents(documents=chunks, embedding=embeddings)\n",
    "        return vector_store\n",
    "    except Exception as e:\n",
    "        logging.error(\"An error occured in chunk_embedding fn: %s\", e, exc_info=True)\n",
    "\n",
    "\n",
    "import logging\n",
    "from langchain.chains import ConversationChain\n",
    "from langchain.memory import ConversationBufferWindowMemory\n",
    "import ollama\n",
    "\n",
    "def ollama_llm(question, context):\n",
    "    try:\n",
    "        formatted_prompt = f\"Question: {question}\\n\\nContext: {context}\"\n",
    "        memory = ConversationBufferWindowMemory(k=3)\n",
    "        \n",
    "        def get_response(prompt):\n",
    "            response = ollama.chat(\n",
    "                model=\"llama3\",\n",
    "                messages=[{\"role\": \"user\", \"content\": prompt}]\n",
    "            )\n",
    "            return response[\"message\"][\"content\"]\n",
    "        \n",
    "        conversation = ConversationChain(\n",
    "            llm=get_response, memory=memory, verbose=True\n",
    "        )\n",
    "        \n",
    "        result = conversation.predict(input=formatted_prompt)\n",
    "        \n",
    "        return result\n",
    "    except Exception as e:\n",
    "        logging.error(\"An error occurred in ollama_llm function: %s\", e, exc_info=True)\n",
    "\n",
    "\n",
    "def combine_docs(docs):\n",
    "    return \"\\n\\n\".join(doc.page_content for doc in docs)\n",
    "\n",
    "\n"
   ]
  },
  {
   "cell_type": "code",
   "execution_count": 3,
   "metadata": {},
   "outputs": [
    {
     "name": "stdout",
     "output_type": "stream",
     "text": [
      "[Document(metadata={'source': 'fizza.pdf', 'page': 0}, page_content='Electronically verified report. No signature required. Lab reports should be interpreted by a physician in correlation with clinical and radiologic findings.Department of HematologyReporting DateTime: 14-Jun-2024 11:50Collection DateTime: 14-Jun-2024 08:01\\nBlood C/E (Complete, CBC)\\nTest Reference Value Unit70003-14-06\\n14-Jun-2024 08:01\\nHb 11.5  -  14.5 g/dl 7.9\\nTotal RBC 4  -  6 x10^12/l 3.4\\nHCT 36  -  46 % 25\\nMCV 75  -  95 fl 74\\nMCH 26  -  32 pg 23\\nRDW CV % 11.5  -  14.5 % 18.1\\nMCHC 30  -  35 g/dl 32\\nPlatelet Count 150  -  400 x10^9/l 218\\nMPV fl 7  -  11 fl 10.9\\nWBC Count (TLC) 4  -  12 x10^9/l 5.5\\nNeutrophils 32.0  -  62.0 % 74.0\\nLymphocytes 46.0  -  55.0 % 17.0\\nMonocytes Less Than 5.0 % 8.0\\nEosinophils Less Than 3.0 % 1.0\\nAbs. Neutrophils 2.00  -  7.00 x10^9/l 4.08\\nAbs. Lymphocytes 1.00  -  3.00 x10^9/l 0.88\\nAbs. Monocytes 0.20  -  1.00 x10^9/l 0.46\\nAbs. Eosinophils 0.02  -  0.50 x10^9/l 0.06\\nPatient Detail:\\nFizza Khan .\\nAge/Sex :\\n12 (Y) / FRegistration Location:\\nBahawalpur: Home Sampling\\nRegistration Date:\\n14-Jun-2024 08:01Reference:\\nHABIB BANK LIMITED\\nConsultant:\\n.SELF 70003-14-06Case Number:70001-24-14172793Patient Number:\\nNote : , , ,\\n03111456789\\n www.chughtailab.com\\ninfo@chughtailab.com\\n 07 - Jail Road Main Gulberg-III, LahoreDr. N. A. Malik\\nM.B.B.S. (Pb) , M. Phil.\\nConsultant HaematologistDr. Ayisha Imran\\nM.B.B.S., F.C.P.S.\\nConsultant HaematologistDr. M. Dilawar Khan\\nM.B.B.S., M.C.P.S., F.C.P.S.\\nConsultant Chemical PathologistDr. Omar Chughtai\\nM.B.B.S., M.D., F.C.A.P.\\nDiplomate American Board of Anatomic\\nand Clinical Pathology Consultant\\nPathologistDr. A . S. Chughtai\\nM.B.B.S., M.I.A.C., M.Phil.\\nF.C.P.S., F.C.P.P.Consultant Pathologist')]\n",
      "[Document(metadata={'source': 'fizza.pdf', 'page': 0}, page_content='Electronically verified report. No signature required. Lab reports should be interpreted by a physician in correlation with clinical and radiologic findings.Department of HematologyReporting DateTime: 14-Jun-2024 11:50Collection DateTime: 14-Jun-2024 08:01\\nBlood C/E (Complete, CBC)\\nTest Reference Value Unit70003-14-06\\n14-Jun-2024 08:01\\nHb 11.5  -  14.5 g/dl 7.9\\nTotal RBC 4  -  6 x10^12/l 3.4\\nHCT 36  -  46 % 25\\nMCV 75  -  95 fl 74\\nMCH 26  -  32 pg 23\\nRDW CV % 11.5  -  14.5 % 18.1\\nMCHC 30  -  35 g/dl 32\\nPlatelet Count 150  -  400 x10^9/l 218\\nMPV fl 7  -  11 fl 10.9\\nWBC Count (TLC) 4  -  12 x10^9/l 5.5\\nNeutrophils 32.0  -  62.0 % 74.0\\nLymphocytes 46.0  -  55.0 % 17.0\\nMonocytes Less Than 5.0 % 8.0\\nEosinophils Less Than 3.0 % 1.0\\nAbs. Neutrophils 2.00  -  7.00 x10^9/l 4.08\\nAbs. Lymphocytes 1.00  -  3.00 x10^9/l 0.88\\nAbs. Monocytes 0.20  -  1.00 x10^9/l 0.46\\nAbs. Eosinophils 0.02  -  0.50 x10^9/l 0.06\\nPatient Detail:\\nFizza Khan .\\nAge/Sex :\\n12 (Y) / FRegistration Location:\\nBahawalpur: Home Sampling\\nRegistration Date:\\n14-Jun-2024 08:01Reference:\\nHABIB BANK LIMITED\\nConsultant:\\n.SELF 70003-14-06Case Number:70001-24-14172793Patient Number:\\nNote : , , ,\\n03111456789\\n www.chughtailab.com\\ninfo@chughtailab.com\\n 07 - Jail Road Main Gulberg-III, LahoreDr. N. A. Malik\\nM.B.B.S. (Pb) , M. Phil.\\nConsultant HaematologistDr. Ayisha Imran\\nM.B.B.S., F.C.P.S.\\nConsultant HaematologistDr. M. Dilawar Khan\\nM.B.B.S., M.C.P.S., F.C.P.S.\\nConsultant Chemical PathologistDr. Omar Chughtai\\nM.B.B.S., M.D., F.C.A.P.\\nDiplomate American Board of Anatomic\\nand Clinical Pathology Consultant\\nPathologistDr. A . S. Chughtai\\nM.B.B.S., M.I.A.C., M.Phil.\\nF.C.P.S., F.C.P.P.Consultant Pathologist')]\n"
     ]
    },
    {
     "name": "stderr",
     "output_type": "stream",
     "text": [
      "Number of requested results 4 is greater than number of elements in index 2, updating n_results = 2\n",
      "/workspace/.pyenv_mirror/user/current/lib/python3.12/site-packages/langchain_core/_api/deprecation.py:139: LangChainDeprecationWarning: The class `ConversationChain` was deprecated in LangChain 0.2.7 and will be removed in 1.0. Use RunnableWithMessageHistory: https://api.python.langchain.com/en/latest/runnables/langchain_core.runnables.history.RunnableWithMessageHistory.html instead.\n",
      "  warn_deprecated(\n",
      "ERROR:root:An error occurred in ollama_llm function: 2 validation errors for ConversationChain\n",
      "llm\n",
      "  instance of Runnable expected (type=type_error.arbitrary_type; expected_arbitrary_type=Runnable)\n",
      "llm\n",
      "  instance of Runnable expected (type=type_error.arbitrary_type; expected_arbitrary_type=Runnable)\n",
      "Traceback (most recent call last):\n",
      "  File \"/tmp/ipykernel_17588/3682013685.py\", line 66, in ollama_llm\n",
      "    conversation = ConversationChain(\n",
      "                   ^^^^^^^^^^^^^^^^^^\n",
      "  File \"/workspace/.pyenv_mirror/user/current/lib/python3.12/site-packages/langchain_core/_api/deprecation.py\", line 203, in warn_if_direct_instance\n",
      "    return wrapped(self, *args, **kwargs)\n",
      "           ^^^^^^^^^^^^^^^^^^^^^^^^^^^^^^\n",
      "  File \"/workspace/.pyenv_mirror/user/current/lib/python3.12/site-packages/langchain_core/_api/deprecation.py\", line 203, in warn_if_direct_instance\n",
      "    return wrapped(self, *args, **kwargs)\n",
      "           ^^^^^^^^^^^^^^^^^^^^^^^^^^^^^^\n",
      "  File \"/workspace/.pyenv_mirror/user/current/lib/python3.12/site-packages/pydantic/v1/main.py\", line 341, in __init__\n",
      "    raise validation_error\n",
      "pydantic.v1.error_wrappers.ValidationError: 2 validation errors for ConversationChain\n",
      "llm\n",
      "  instance of Runnable expected (type=type_error.arbitrary_type; expected_arbitrary_type=Runnable)\n",
      "llm\n",
      "  instance of Runnable expected (type=type_error.arbitrary_type; expected_arbitrary_type=Runnable)\n"
     ]
    },
    {
     "name": "stdout",
     "output_type": "stream",
     "text": [
      "this is ret tags=['Chroma', 'OllamaEmbeddings'] vectorstore=<langchain_community.vectorstores.chroma.Chroma object at 0x7f887e4ca2a0>\n",
      "Rag_chain function called with question: what i asked first\n",
      "None\n"
     ]
    }
   ],
   "source": [
    "def rag_chain(question, retriever):\n",
    "    print(\"Rag_chain function called with question:\", question)\n",
    "    retrieved_docs = retriever.invoke(question)\n",
    "    formatted_context = combine_docs(retrieved_docs)\n",
    "    return ollama_llm(question, formatted_context)\n",
    "\n",
    "\n",
    "file = pdf_loader('fizza.pdf')\n",
    "print(file)\n",
    "chunks = chunks_embeddings(file)\n",
    "ret=chunks.as_retriever()\n",
    "print(\"this is ret\",ret)\n",
    "\n",
    "\n",
    "rag = rag_chain(question=\"what i asked first\",retriever=chunks.as_retriever())\n",
    "print(rag)"
   ]
  }
 ],
 "metadata": {
  "kernelspec": {
   "display_name": "Python 3",
   "language": "python",
   "name": "python3"
  },
  "language_info": {
   "codemirror_mode": {
    "name": "ipython",
    "version": 3
   },
   "file_extension": ".py",
   "mimetype": "text/x-python",
   "name": "python",
   "nbconvert_exporter": "python",
   "pygments_lexer": "ipython3",
   "version": "3.12.4"
  }
 },
 "nbformat": 4,
 "nbformat_minor": 2
}
