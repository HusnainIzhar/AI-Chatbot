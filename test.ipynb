{
 "cells": [
  {
   "cell_type": "code",
   "execution_count": 1,
   "metadata": {},
   "outputs": [
    {
     "ename": "ModuleNotFoundError",
     "evalue": "No module named 'langchain_community'",
     "output_type": "error",
     "traceback": [
      "\u001b[0;31m---------------------------------------------------------------------------\u001b[0m",
      "\u001b[0;31mModuleNotFoundError\u001b[0m                       Traceback (most recent call last)",
      "Cell \u001b[0;32mIn[1], line 1\u001b[0m\n\u001b[0;32m----> 1\u001b[0m \u001b[38;5;28;01mfrom\u001b[39;00m \u001b[38;5;21;01mlangchain_community\u001b[39;00m\u001b[38;5;21;01m.\u001b[39;00m\u001b[38;5;21;01mdocument_loaders\u001b[39;00m \u001b[38;5;28;01mimport\u001b[39;00m (\n\u001b[1;32m      2\u001b[0m     PyPDFLoader,\n\u001b[1;32m      3\u001b[0m     WebBaseLoader,\n\u001b[1;32m      4\u001b[0m     UnstructuredExcelLoader,\n\u001b[1;32m      5\u001b[0m     UnstructuredImageLoader,\n\u001b[1;32m      6\u001b[0m     UnstructuredPowerPointLoader,\n\u001b[1;32m      7\u001b[0m )\n\u001b[1;32m      8\u001b[0m \u001b[38;5;28;01mimport\u001b[39;00m \u001b[38;5;21;01mlogging\u001b[39;00m\n\u001b[1;32m      9\u001b[0m \u001b[38;5;28;01mimport\u001b[39;00m \u001b[38;5;21;01mollama\u001b[39;00m\n",
      "\u001b[0;31mModuleNotFoundError\u001b[0m: No module named 'langchain_community'"
     ]
    }
   ],
   "source": [
    "from langchain_community.document_loaders import (\n",
    "    PyPDFLoader,\n",
    "    WebBaseLoader,\n",
    "    UnstructuredExcelLoader,\n",
    "    UnstructuredImageLoader,\n",
    "    UnstructuredPowerPointLoader,\n",
    ")\n",
    "import logging\n",
    "import ollama\n",
    "\n",
    "\n",
    "def pdf_loader(file):\n",
    "    try:\n",
    "        return PyPDFLoader(file).load_and_split()\n",
    "    except Exception as e:\n",
    "        logging.error(\"An error occurred: %s\", e, exc_info=True)\n",
    "\n",
    "\n",
    "def ppt_loader(file):\n",
    "    try:\n",
    "        return UnstructuredPowerPointLoader(file).load_and_split()\n",
    "    except Exception as e:\n",
    "        logging.error(\"An error occurred: %s\", e, exc_info=True)\n",
    "\n",
    "\n",
    "def excel_loader(file):\n",
    "    try:\n",
    "        return UnstructuredExcelLoader(file).load_and_split()\n",
    "    except Exception as e:\n",
    "        logging.error(\"An error occurred: %s\", e, exc_info=True)\n",
    "\n",
    "\n",
    "def img_loader(file):\n",
    "    try:\n",
    "        return UnstructuredImageLoader(file).load()\n",
    "    except Exception as e:\n",
    "        logging.error(\"An error occurred: %s\", e, exc_info=True)\n",
    "\n",
    "\n",
    "def url_loader(url):\n",
    "    try:\n",
    "        return WebBaseLoader(url).load_and_split()\n",
    "    except Exception as e:\n",
    "        logging.error(\"An error occurred: %s\", e, exc_info=True)\n"
   ]
  },
  {
   "cell_type": "code",
   "execution_count": null,
   "metadata": {},
   "outputs": [],
   "source": [
    "from langchain.text_splitter import RecursiveCharacterTextSplitter\n",
    "from langchain_community.embeddings import OllamaEmbeddings\n",
    "from langchain_community.vectorstores import Chroma\n",
    "import ollama\n",
    "import logging\n",
    "\n",
    "def chunks_embeddings(data):\n",
    "    try:\n",
    "        print(data)\n",
    "        chunks = RecursiveCharacterTextSplitter(\n",
    "            chunk_size=1000, chunk_overlap=200\n",
    "        ).split_documents(data)\n",
    "        embeddings = OllamaEmbeddings(model=\"nomic-embed-text\")\n",
    "        vector_store = Chroma.from_documents(documents=chunks, embedding=embeddings)\n",
    "        return vector_store\n",
    "    except Exception as e:\n",
    "        logging.error(\"An error occured in chunk_embedding fn: %s\", e, exc_info=True)\n",
    "\n",
    "\n",
    "def ollama_llm(question, context):\n",
    "    try:\n",
    "        formatted_prompt = f\"Question: {question}\\n\\nContext: {context}\"\n",
    "        response = ollama.chat(\n",
    "            model=\"llama3\", messages=[{\"role\": \"user\", \"content\": formatted_prompt}]\n",
    "        )\n",
    "        return response[\"message\"][\"content\"]\n",
    "    except Exception as e:\n",
    "        logging.error(\"An error occured in chunk_embedding fn: %s\", e, exc_info=True)\n",
    "\n",
    "\n",
    "# rag chain\n",
    "\n",
    "\n",
    "def combine_docs(docs):\n",
    "    return \"\\n\\n\".join(doc.page_content for doc in docs)\n",
    "\n",
    "\n",
    "def rag_chain(question, retriver):\n",
    "    retrieved_docs = retriever.invoke(question)\n",
    "    formatted_context = combine_docs(retrieved_docs)\n",
    "    return ollama_llm(question, formatted_context)\n"
   ]
  }
 ],
 "metadata": {
  "kernelspec": {
   "display_name": "Python 3",
   "language": "python",
   "name": "python3"
  },
  "language_info": {
   "codemirror_mode": {
    "name": "ipython",
    "version": 3
   },
   "file_extension": ".py",
   "mimetype": "text/x-python",
   "name": "python",
   "nbconvert_exporter": "python",
   "pygments_lexer": "ipython3",
   "version": "3.10.12"
  }
 },
 "nbformat": 4,
 "nbformat_minor": 2
}
